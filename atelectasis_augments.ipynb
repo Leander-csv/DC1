{
 "cells": [
  {
   "cell_type": "code",
   "execution_count": 1,
   "metadata": {},
   "outputs": [],
   "source": [
    "import cv2\n",
    "import glob\n",
    "from PIL import Image\n",
    "import torch\n",
    "from torchvision import transforms\n",
    "import numpy as np\n",
    "from matplotlib import pyplot as plt\n",
    "import random as random\n",
    "import pandas as pd\n",
    "import csv"
   ]
  },
  {
   "cell_type": "code",
   "execution_count": 2,
   "metadata": {},
   "outputs": [],
   "source": [
    "def images_into_list(path):\n",
    "    \"\"\"\n",
    "    Takes images from a path in directory and places into list\n",
    "    \"\"\"\n",
    "    \n",
    "    lst = []\n",
    "    for img in glob.glob(path):\n",
    "        im = Image.open(img)\n",
    "        lst.append(im)\n",
    "    return lst"
   ]
  },
  {
   "cell_type": "markdown",
   "metadata": {},
   "source": [
    "### Loading of Files"
   ]
  },
  {
   "cell_type": "code",
   "execution_count": 3,
   "metadata": {},
   "outputs": [],
   "source": [
    "atelectasis = images_into_list('Train/Atelectasis/*.png')"
   ]
  },
  {
   "cell_type": "markdown",
   "metadata": {},
   "source": [
    "### Setting up the different Augs"
   ]
  },
  {
   "cell_type": "code",
   "execution_count": 4,
   "metadata": {},
   "outputs": [],
   "source": [
    "diff_augs = [transforms.RandomHorizontalFlip(), \n",
    "            transforms.RandomRotation(10),\n",
    "            transforms.RandomAffine(degrees = 10,\n",
    "                                    translate = (0.23, 0.88),\n",
    "                                    shear=(-4, 4)),\n",
    "            transforms.ColorJitter(brightness=0.5,hue = 0.2),\n",
    "            transforms.GaussianBlur(kernel_size = 3, sigma=(0.3))]\n",
    "\n",
    "names_aug = [\"Horizontal Flip\",\n",
    "            \"Rotation\",\n",
    "            \"Affine Translation\",\n",
    "            \"Color Jitter\",\n",
    "            \"Gaussian Blur\"]"
   ]
  },
  {
   "cell_type": "code",
   "execution_count": 5,
   "metadata": {},
   "outputs": [
    {
     "data": {
      "text/html": [
       "<div>\n",
       "<style scoped>\n",
       "    .dataframe tbody tr th:only-of-type {\n",
       "        vertical-align: middle;\n",
       "    }\n",
       "\n",
       "    .dataframe tbody tr th {\n",
       "        vertical-align: top;\n",
       "    }\n",
       "\n",
       "    .dataframe thead th {\n",
       "        text-align: right;\n",
       "    }\n",
       "</style>\n",
       "<table border=\"1\" class=\"dataframe\">\n",
       "  <thead>\n",
       "    <tr style=\"text-align: right;\">\n",
       "      <th></th>\n",
       "      <th>Type of Augmentation</th>\n",
       "    </tr>\n",
       "  </thead>\n",
       "  <tbody>\n",
       "    <tr>\n",
       "      <th>0</th>\n",
       "      <td>Horizontal Flip</td>\n",
       "    </tr>\n",
       "    <tr>\n",
       "      <th>1</th>\n",
       "      <td>Rotation</td>\n",
       "    </tr>\n",
       "    <tr>\n",
       "      <th>2</th>\n",
       "      <td>Affine Translation</td>\n",
       "    </tr>\n",
       "    <tr>\n",
       "      <th>3</th>\n",
       "      <td>Color Jitter</td>\n",
       "    </tr>\n",
       "    <tr>\n",
       "      <th>4</th>\n",
       "      <td>Gaussian Blur</td>\n",
       "    </tr>\n",
       "  </tbody>\n",
       "</table>\n",
       "</div>"
      ],
      "text/plain": [
       "  Type of Augmentation\n",
       "0      Horizontal Flip\n",
       "1             Rotation\n",
       "2   Affine Translation\n",
       "3         Color Jitter\n",
       "4        Gaussian Blur"
      ]
     },
     "execution_count": 5,
     "metadata": {},
     "output_type": "execute_result"
    }
   ],
   "source": [
    "df = pd.DataFrame(names_aug, columns=['Type of Augmentation'])\n",
    "df"
   ]
  },
  {
   "cell_type": "markdown",
   "metadata": {},
   "source": [
    "### Function to do the augmentation"
   ]
  },
  {
   "cell_type": "code",
   "execution_count": 6,
   "metadata": {},
   "outputs": [],
   "source": [
    "def image_augmentation(type_of_disorder, type_of_aug:int):\n",
    "    \n",
    "    \"\"\"\n",
    "    Performs each type of augmentation by the user\n",
    "    \"\"\"\n",
    "    \n",
    "    aug_func = diff_augs[type_of_aug]\n",
    "    \n",
    "    augmented = [aug_func(i) for i in type_of_disorder]\n",
    "    \n",
    "    return augmented"
   ]
  },
  {
   "cell_type": "code",
   "execution_count": 7,
   "metadata": {},
   "outputs": [],
   "source": [
    "# Lists of the results of the augmentated images\n",
    "hor = image_augmentation(atelectasis, 0)\n",
    "rot = image_augmentation(atelectasis, 1)\n",
    "affine = image_augmentation(atelectasis, 2)\n",
    "color = image_augmentation(atelectasis, 3)\n",
    "guassian = image_augmentation(atelectasis, 4) "
   ]
  },
  {
   "cell_type": "code",
   "execution_count": 8,
   "metadata": {},
   "outputs": [],
   "source": [
    "def join_lists(lst1, lst2, lst3, lst4, lst5):\n",
    "    \n",
    "    global joined_list\n",
    "    joined_list = [*lst1, *lst2, *lst3, *lst4, *lst5]\n",
    "    \n",
    "    return joined_list"
   ]
  },
  {
   "cell_type": "code",
   "execution_count": 9,
   "metadata": {
    "scrolled": true
   },
   "outputs": [
    {
     "data": {
      "text/plain": [
       "12595"
      ]
     },
     "execution_count": 9,
     "metadata": {},
     "output_type": "execute_result"
    }
   ],
   "source": [
    "len(join_lists(hor, rot, affine, color, guassian))"
   ]
  },
  {
   "cell_type": "markdown",
   "metadata": {},
   "source": [
    "### Converts Images to tensors"
   ]
  },
  {
   "cell_type": "code",
   "execution_count": 10,
   "metadata": {},
   "outputs": [],
   "source": [
    "def convert_to_tensor(lst):\n",
    "    \n",
    "    global tensor\n",
    "    tensor = [transforms.ToTensor()(i) for i in lst]\n",
    "    return tensor "
   ]
  },
  {
   "cell_type": "code",
   "execution_count": 11,
   "metadata": {},
   "outputs": [
    {
     "data": {
      "text/plain": [
       "12595"
      ]
     },
     "execution_count": 11,
     "metadata": {},
     "output_type": "execute_result"
    }
   ],
   "source": [
    "len(convert_to_tensor(joined_list))"
   ]
  },
  {
   "cell_type": "markdown",
   "metadata": {},
   "source": [
    "### Save images to csv file"
   ]
  },
  {
   "cell_type": "code",
   "execution_count": 12,
   "metadata": {},
   "outputs": [],
   "source": [
    "with open('atelectasis-tensors.csv', 'w') as f:\n",
    "      \n",
    "    # using csv.writer method from CSV package\n",
    "    write = csv.writer(f)\n",
    "      \n",
    "    write.writerow(tensor)"
   ]
  },
  {
   "cell_type": "code",
   "execution_count": null,
   "metadata": {},
   "outputs": [],
   "source": []
  }
 ],
 "metadata": {
  "kernelspec": {
   "display_name": "Python 3",
   "language": "python",
   "name": "python3"
  },
  "language_info": {
   "codemirror_mode": {
    "name": "ipython",
    "version": 3
   },
   "file_extension": ".py",
   "mimetype": "text/x-python",
   "name": "python",
   "nbconvert_exporter": "python",
   "pygments_lexer": "ipython3",
   "version": "3.8.2"
  }
 },
 "nbformat": 4,
 "nbformat_minor": 4
}
